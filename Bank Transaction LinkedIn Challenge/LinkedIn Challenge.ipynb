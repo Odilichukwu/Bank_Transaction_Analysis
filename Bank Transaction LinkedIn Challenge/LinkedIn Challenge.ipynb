{
 "cells": [
  {
   "cell_type": "markdown",
   "metadata": {},
   "source": [
    "## LinkedIn Data Analysis Challenge\n",
    "\n",
    "\n",
    "### Tasks\n",
    "\n",
    "- Straighten out the dataframe to a table of at least 7 columns.\n",
    "- Identify the top 5 predominant ages in the dataset.\n",
    "- Determine the bank with the largest share of transactions.\n",
    "- Show a distribution of channels used on transactions."
   ]
  },
  {
   "cell_type": "code",
   "execution_count": 11,
   "metadata": {},
   "outputs": [],
   "source": [
    "#load the libaries\n",
    "library(readxl)\n",
    "library(dplyr)\n",
    "library(tidyr)\n",
    "library(ggplot2)\n",
    "library(treemapify)\n",
    "library(plotrix)"
   ]
  },
  {
   "cell_type": "code",
   "execution_count": 12,
   "metadata": {},
   "outputs": [],
   "source": [
    "#import data\n",
    "data <- read_excel('Killa.xlsx')"
   ]
  },
  {
   "cell_type": "code",
   "execution_count": 13,
   "metadata": {},
   "outputs": [
    {
     "data": {
      "text/html": [
       "<table>\n",
       "<thead><tr><th scope=col>First Name</th><th scope=col>Last Name</th><th scope=col>transaction</th></tr></thead>\n",
       "<tbody>\n",
       "\t<tr><td>nooeukw                                                                                                                                                                                              </td><td>uuoaklowalb                                                                                                                                                                                          </td><td>{'tx_id': '5ed3d67b8723c11444c43283', 'tx_date': '2020-06-13T05:28:47.543000Z', 'tx_amount': 6192, 'tx_mode': 'Debit', 'tx_channel': 'web', 'bank_name': 'QBank', 'dob': ['1992-11-10 00:00:00']}    </td></tr>\n",
       "\t<tr><td>angulbo                                                                                                                                                                                              </td><td>seagn                                                                                                                                                                                                </td><td>{'tx_id': '5ed3d67b8723c11444c43283', 'tx_date': '2020-06-12T20:22:38.986000Z', 'tx_amount': 38445, 'tx_mode': 'Debit', 'tx_channel': 'mobile', 'bank_name': 'ABank', 'dob': ['n/a']}                </td></tr>\n",
       "\t<tr><td>dukowi                                                                                                                                                                                               </td><td>eukloomja                                                                                                                                                                                            </td><td>{'tx_id': '5ed3d67b8723c11444c43283', 'tx_date': '2020-06-13T06:00:46.904000Z', 'tx_amount': 29627, 'tx_mode': 'Debit', 'tx_channel': 'mobile', 'bank_name': 'GBank', 'dob': ['1992-01-01 00:00:00']}</td></tr>\n",
       "\t<tr><td>ltuoawiob                                                                                                                                                                                            </td><td>uuilawobmn                                                                                                                                                                                           </td><td>{'tx_id': '5ed3d67b8723c11444c43283', 'tx_date': '2020-06-13T16:10:51.479000Z', 'tx_amount': 27791, 'tx_mode': 'Debit', 'tx_channel': 'web', 'bank_name': 'KBank', 'dob': ['1981-01-07 00:00:00']}   </td></tr>\n",
       "\t<tr><td>nakuolo                                                                                                                                                                                              </td><td>donald                                                                                                                                                                                               </td><td>{'tx_id': '5ed3d67b8723c11444c43283', 'tx_date': '2020-06-13T05:28:47.543000Z', 'tx_amount': 6192, 'tx_mode': 'Debit', 'tx_channel': 'web', 'bank_name': 'QBank', 'dob': ['n/a']}                    </td></tr>\n",
       "\t<tr><td>juagn                                                                                                                                                                                                </td><td>ahcnaiz                                                                                                                                                                                              </td><td>{'tx_id': '5ed3d67b8723c11444c43283', 'tx_date': '2020-06-12T20:22:38.986000Z', 'tx_amount': 38445, 'tx_mode': 'Debit', 'tx_channel': 'mobile', 'bank_name': 'ABank', 'dob': ['1980-11-22 00:00:00']}</td></tr>\n",
       "</tbody>\n",
       "</table>\n"
      ],
      "text/latex": [
       "\\begin{tabular}{r|lll}\n",
       " First Name & Last Name & transaction\\\\\n",
       "\\hline\n",
       "\t nooeukw                                                                                                                                                                                                                   & uuoaklowalb                                                                                                                                                                                                               & \\{'tx\\_id': '5ed3d67b8723c11444c43283', 'tx\\_date': '2020-06-13T05:28:47.543000Z', 'tx\\_amount': 6192, 'tx\\_mode': 'Debit', 'tx\\_channel': 'web', 'bank\\_name': 'QBank', 'dob': {[}'1992-11-10 00:00:00'{]}\\}    \\\\\n",
       "\t angulbo                                                                                                                                                                                                                   & seagn                                                                                                                                                                                                                     & \\{'tx\\_id': '5ed3d67b8723c11444c43283', 'tx\\_date': '2020-06-12T20:22:38.986000Z', 'tx\\_amount': 38445, 'tx\\_mode': 'Debit', 'tx\\_channel': 'mobile', 'bank\\_name': 'ABank', 'dob': {[}'n/a'{]}\\}                \\\\\n",
       "\t dukowi                                                                                                                                                                                                                    & eukloomja                                                                                                                                                                                                                 & \\{'tx\\_id': '5ed3d67b8723c11444c43283', 'tx\\_date': '2020-06-13T06:00:46.904000Z', 'tx\\_amount': 29627, 'tx\\_mode': 'Debit', 'tx\\_channel': 'mobile', 'bank\\_name': 'GBank', 'dob': {[}'1992-01-01 00:00:00'{]}\\}\\\\\n",
       "\t ltuoawiob                                                                                                                                                                                                                 & uuilawobmn                                                                                                                                                                                                                & \\{'tx\\_id': '5ed3d67b8723c11444c43283', 'tx\\_date': '2020-06-13T16:10:51.479000Z', 'tx\\_amount': 27791, 'tx\\_mode': 'Debit', 'tx\\_channel': 'web', 'bank\\_name': 'KBank', 'dob': {[}'1981-01-07 00:00:00'{]}\\}   \\\\\n",
       "\t nakuolo                                                                                                                                                                                                                   & donald                                                                                                                                                                                                                    & \\{'tx\\_id': '5ed3d67b8723c11444c43283', 'tx\\_date': '2020-06-13T05:28:47.543000Z', 'tx\\_amount': 6192, 'tx\\_mode': 'Debit', 'tx\\_channel': 'web', 'bank\\_name': 'QBank', 'dob': {[}'n/a'{]}\\}                    \\\\\n",
       "\t juagn                                                                                                                                                                                                                     & ahcnaiz                                                                                                                                                                                                                   & \\{'tx\\_id': '5ed3d67b8723c11444c43283', 'tx\\_date': '2020-06-12T20:22:38.986000Z', 'tx\\_amount': 38445, 'tx\\_mode': 'Debit', 'tx\\_channel': 'mobile', 'bank\\_name': 'ABank', 'dob': {[}'1980-11-22 00:00:00'{]}\\}\\\\\n",
       "\\end{tabular}\n"
      ],
      "text/markdown": [
       "\n",
       "| First Name | Last Name | transaction |\n",
       "|---|---|---|\n",
       "| nooeukw                                                                                                                                                                                               | uuoaklowalb                                                                                                                                                                                           | {'tx_id': '5ed3d67b8723c11444c43283', 'tx_date': '2020-06-13T05:28:47.543000Z', 'tx_amount': 6192, 'tx_mode': 'Debit', 'tx_channel': 'web', 'bank_name': 'QBank', 'dob': ['1992-11-10 00:00:00']}     |\n",
       "| angulbo                                                                                                                                                                                               | seagn                                                                                                                                                                                                 | {'tx_id': '5ed3d67b8723c11444c43283', 'tx_date': '2020-06-12T20:22:38.986000Z', 'tx_amount': 38445, 'tx_mode': 'Debit', 'tx_channel': 'mobile', 'bank_name': 'ABank', 'dob': ['n/a']}                 |\n",
       "| dukowi                                                                                                                                                                                                | eukloomja                                                                                                                                                                                             | {'tx_id': '5ed3d67b8723c11444c43283', 'tx_date': '2020-06-13T06:00:46.904000Z', 'tx_amount': 29627, 'tx_mode': 'Debit', 'tx_channel': 'mobile', 'bank_name': 'GBank', 'dob': ['1992-01-01 00:00:00']} |\n",
       "| ltuoawiob                                                                                                                                                                                             | uuilawobmn                                                                                                                                                                                            | {'tx_id': '5ed3d67b8723c11444c43283', 'tx_date': '2020-06-13T16:10:51.479000Z', 'tx_amount': 27791, 'tx_mode': 'Debit', 'tx_channel': 'web', 'bank_name': 'KBank', 'dob': ['1981-01-07 00:00:00']}    |\n",
       "| nakuolo                                                                                                                                                                                               | donald                                                                                                                                                                                                | {'tx_id': '5ed3d67b8723c11444c43283', 'tx_date': '2020-06-13T05:28:47.543000Z', 'tx_amount': 6192, 'tx_mode': 'Debit', 'tx_channel': 'web', 'bank_name': 'QBank', 'dob': ['n/a']}                     |\n",
       "| juagn                                                                                                                                                                                                 | ahcnaiz                                                                                                                                                                                               | {'tx_id': '5ed3d67b8723c11444c43283', 'tx_date': '2020-06-12T20:22:38.986000Z', 'tx_amount': 38445, 'tx_mode': 'Debit', 'tx_channel': 'mobile', 'bank_name': 'ABank', 'dob': ['1980-11-22 00:00:00']} |\n",
       "\n"
      ],
      "text/plain": [
       "  First Name Last Name  \n",
       "1 nooeukw    uuoaklowalb\n",
       "2 angulbo    seagn      \n",
       "3 dukowi     eukloomja  \n",
       "4 ltuoawiob  uuilawobmn \n",
       "5 nakuolo    donald     \n",
       "6 juagn      ahcnaiz    \n",
       "  transaction                                                                                                                                                                                          \n",
       "1 {'tx_id': '5ed3d67b8723c11444c43283', 'tx_date': '2020-06-13T05:28:47.543000Z', 'tx_amount': 6192, 'tx_mode': 'Debit', 'tx_channel': 'web', 'bank_name': 'QBank', 'dob': ['1992-11-10 00:00:00']}    \n",
       "2 {'tx_id': '5ed3d67b8723c11444c43283', 'tx_date': '2020-06-12T20:22:38.986000Z', 'tx_amount': 38445, 'tx_mode': 'Debit', 'tx_channel': 'mobile', 'bank_name': 'ABank', 'dob': ['n/a']}                \n",
       "3 {'tx_id': '5ed3d67b8723c11444c43283', 'tx_date': '2020-06-13T06:00:46.904000Z', 'tx_amount': 29627, 'tx_mode': 'Debit', 'tx_channel': 'mobile', 'bank_name': 'GBank', 'dob': ['1992-01-01 00:00:00']}\n",
       "4 {'tx_id': '5ed3d67b8723c11444c43283', 'tx_date': '2020-06-13T16:10:51.479000Z', 'tx_amount': 27791, 'tx_mode': 'Debit', 'tx_channel': 'web', 'bank_name': 'KBank', 'dob': ['1981-01-07 00:00:00']}   \n",
       "5 {'tx_id': '5ed3d67b8723c11444c43283', 'tx_date': '2020-06-13T05:28:47.543000Z', 'tx_amount': 6192, 'tx_mode': 'Debit', 'tx_channel': 'web', 'bank_name': 'QBank', 'dob': ['n/a']}                    \n",
       "6 {'tx_id': '5ed3d67b8723c11444c43283', 'tx_date': '2020-06-12T20:22:38.986000Z', 'tx_amount': 38445, 'tx_mode': 'Debit', 'tx_channel': 'mobile', 'bank_name': 'ABank', 'dob': ['1980-11-22 00:00:00']}"
      ]
     },
     "metadata": {},
     "output_type": "display_data"
    }
   ],
   "source": [
    "#to view the first five rows\n",
    "head(data)"
   ]
  },
  {
   "cell_type": "markdown",
   "metadata": {},
   "source": [
    "\n",
    "\n",
    "\n",
    "\n",
    "\n",
    "\n",
    "\n",
    "\n",
    "## Data Wrangling"
   ]
  },
  {
   "cell_type": "code",
   "execution_count": 14,
   "metadata": {},
   "outputs": [
    {
     "data": {
      "text/html": [
       "<table>\n",
       "<thead><tr><th scope=col>First Name</th><th scope=col>Last Name</th><th scope=col>transaction</th></tr></thead>\n",
       "<tbody>\n",
       "\t<tr><td>nooeukw                                                                                                                                                                </td><td>uuoaklowalb                                                                                                                                                            </td><td>tx_id: 5ed3d67b8723c11444c43283, tx_date: 2020-06-13T05:28:47.543000Z, tx_amount: 6192, tx_mode: Debit, tx_channel: web, bank_name: QBank, dob: 1992-11-10 00:00:00    </td></tr>\n",
       "\t<tr><td>angulbo                                                                                                                                                                </td><td>seagn                                                                                                                                                                  </td><td>tx_id: 5ed3d67b8723c11444c43283, tx_date: 2020-06-12T20:22:38.986000Z, tx_amount: 38445, tx_mode: Debit, tx_channel: mobile, bank_name: ABank, dob: n/a                </td></tr>\n",
       "\t<tr><td>dukowi                                                                                                                                                                 </td><td>eukloomja                                                                                                                                                              </td><td>tx_id: 5ed3d67b8723c11444c43283, tx_date: 2020-06-13T06:00:46.904000Z, tx_amount: 29627, tx_mode: Debit, tx_channel: mobile, bank_name: GBank, dob: 1992-01-01 00:00:00</td></tr>\n",
       "\t<tr><td>ltuoawiob                                                                                                                                                              </td><td>uuilawobmn                                                                                                                                                             </td><td>tx_id: 5ed3d67b8723c11444c43283, tx_date: 2020-06-13T16:10:51.479000Z, tx_amount: 27791, tx_mode: Debit, tx_channel: web, bank_name: KBank, dob: 1981-01-07 00:00:00   </td></tr>\n",
       "\t<tr><td>nakuolo                                                                                                                                                                </td><td>donald                                                                                                                                                                 </td><td>tx_id: 5ed3d67b8723c11444c43283, tx_date: 2020-06-13T05:28:47.543000Z, tx_amount: 6192, tx_mode: Debit, tx_channel: web, bank_name: QBank, dob: n/a                    </td></tr>\n",
       "\t<tr><td>juagn                                                                                                                                                                  </td><td>ahcnaiz                                                                                                                                                                </td><td>tx_id: 5ed3d67b8723c11444c43283, tx_date: 2020-06-12T20:22:38.986000Z, tx_amount: 38445, tx_mode: Debit, tx_channel: mobile, bank_name: ABank, dob: 1980-11-22 00:00:00</td></tr>\n",
       "</tbody>\n",
       "</table>\n"
      ],
      "text/latex": [
       "\\begin{tabular}{r|lll}\n",
       " First Name & Last Name & transaction\\\\\n",
       "\\hline\n",
       "\t nooeukw                                                                                                                                                                             & uuoaklowalb                                                                                                                                                                         & tx\\_id: 5ed3d67b8723c11444c43283, tx\\_date: 2020-06-13T05:28:47.543000Z, tx\\_amount: 6192, tx\\_mode: Debit, tx\\_channel: web, bank\\_name: QBank, dob: 1992-11-10 00:00:00    \\\\\n",
       "\t angulbo                                                                                                                                                                             & seagn                                                                                                                                                                               & tx\\_id: 5ed3d67b8723c11444c43283, tx\\_date: 2020-06-12T20:22:38.986000Z, tx\\_amount: 38445, tx\\_mode: Debit, tx\\_channel: mobile, bank\\_name: ABank, dob: n/a                \\\\\n",
       "\t dukowi                                                                                                                                                                              & eukloomja                                                                                                                                                                           & tx\\_id: 5ed3d67b8723c11444c43283, tx\\_date: 2020-06-13T06:00:46.904000Z, tx\\_amount: 29627, tx\\_mode: Debit, tx\\_channel: mobile, bank\\_name: GBank, dob: 1992-01-01 00:00:00\\\\\n",
       "\t ltuoawiob                                                                                                                                                                           & uuilawobmn                                                                                                                                                                          & tx\\_id: 5ed3d67b8723c11444c43283, tx\\_date: 2020-06-13T16:10:51.479000Z, tx\\_amount: 27791, tx\\_mode: Debit, tx\\_channel: web, bank\\_name: KBank, dob: 1981-01-07 00:00:00   \\\\\n",
       "\t nakuolo                                                                                                                                                                             & donald                                                                                                                                                                              & tx\\_id: 5ed3d67b8723c11444c43283, tx\\_date: 2020-06-13T05:28:47.543000Z, tx\\_amount: 6192, tx\\_mode: Debit, tx\\_channel: web, bank\\_name: QBank, dob: n/a                    \\\\\n",
       "\t juagn                                                                                                                                                                               & ahcnaiz                                                                                                                                                                             & tx\\_id: 5ed3d67b8723c11444c43283, tx\\_date: 2020-06-12T20:22:38.986000Z, tx\\_amount: 38445, tx\\_mode: Debit, tx\\_channel: mobile, bank\\_name: ABank, dob: 1980-11-22 00:00:00\\\\\n",
       "\\end{tabular}\n"
      ],
      "text/markdown": [
       "\n",
       "| First Name | Last Name | transaction |\n",
       "|---|---|---|\n",
       "| nooeukw                                                                                                                                                                 | uuoaklowalb                                                                                                                                                             | tx_id: 5ed3d67b8723c11444c43283, tx_date: 2020-06-13T05:28:47.543000Z, tx_amount: 6192, tx_mode: Debit, tx_channel: web, bank_name: QBank, dob: 1992-11-10 00:00:00     |\n",
       "| angulbo                                                                                                                                                                 | seagn                                                                                                                                                                   | tx_id: 5ed3d67b8723c11444c43283, tx_date: 2020-06-12T20:22:38.986000Z, tx_amount: 38445, tx_mode: Debit, tx_channel: mobile, bank_name: ABank, dob: n/a                 |\n",
       "| dukowi                                                                                                                                                                  | eukloomja                                                                                                                                                               | tx_id: 5ed3d67b8723c11444c43283, tx_date: 2020-06-13T06:00:46.904000Z, tx_amount: 29627, tx_mode: Debit, tx_channel: mobile, bank_name: GBank, dob: 1992-01-01 00:00:00 |\n",
       "| ltuoawiob                                                                                                                                                               | uuilawobmn                                                                                                                                                              | tx_id: 5ed3d67b8723c11444c43283, tx_date: 2020-06-13T16:10:51.479000Z, tx_amount: 27791, tx_mode: Debit, tx_channel: web, bank_name: KBank, dob: 1981-01-07 00:00:00    |\n",
       "| nakuolo                                                                                                                                                                 | donald                                                                                                                                                                  | tx_id: 5ed3d67b8723c11444c43283, tx_date: 2020-06-13T05:28:47.543000Z, tx_amount: 6192, tx_mode: Debit, tx_channel: web, bank_name: QBank, dob: n/a                     |\n",
       "| juagn                                                                                                                                                                   | ahcnaiz                                                                                                                                                                 | tx_id: 5ed3d67b8723c11444c43283, tx_date: 2020-06-12T20:22:38.986000Z, tx_amount: 38445, tx_mode: Debit, tx_channel: mobile, bank_name: ABank, dob: 1980-11-22 00:00:00 |\n",
       "\n"
      ],
      "text/plain": [
       "  First Name Last Name  \n",
       "1 nooeukw    uuoaklowalb\n",
       "2 angulbo    seagn      \n",
       "3 dukowi     eukloomja  \n",
       "4 ltuoawiob  uuilawobmn \n",
       "5 nakuolo    donald     \n",
       "6 juagn      ahcnaiz    \n",
       "  transaction                                                                                                                                                            \n",
       "1 tx_id: 5ed3d67b8723c11444c43283, tx_date: 2020-06-13T05:28:47.543000Z, tx_amount: 6192, tx_mode: Debit, tx_channel: web, bank_name: QBank, dob: 1992-11-10 00:00:00    \n",
       "2 tx_id: 5ed3d67b8723c11444c43283, tx_date: 2020-06-12T20:22:38.986000Z, tx_amount: 38445, tx_mode: Debit, tx_channel: mobile, bank_name: ABank, dob: n/a                \n",
       "3 tx_id: 5ed3d67b8723c11444c43283, tx_date: 2020-06-13T06:00:46.904000Z, tx_amount: 29627, tx_mode: Debit, tx_channel: mobile, bank_name: GBank, dob: 1992-01-01 00:00:00\n",
       "4 tx_id: 5ed3d67b8723c11444c43283, tx_date: 2020-06-13T16:10:51.479000Z, tx_amount: 27791, tx_mode: Debit, tx_channel: web, bank_name: KBank, dob: 1981-01-07 00:00:00   \n",
       "5 tx_id: 5ed3d67b8723c11444c43283, tx_date: 2020-06-13T05:28:47.543000Z, tx_amount: 6192, tx_mode: Debit, tx_channel: web, bank_name: QBank, dob: n/a                    \n",
       "6 tx_id: 5ed3d67b8723c11444c43283, tx_date: 2020-06-12T20:22:38.986000Z, tx_amount: 38445, tx_mode: Debit, tx_channel: mobile, bank_name: ABank, dob: 1980-11-22 00:00:00"
      ]
     },
     "metadata": {},
     "output_type": "display_data"
    }
   ],
   "source": [
    "data$transaction <- gsub(\"\\\\{|\\\\}\", '', data$transaction) #to remove the curly braces\n",
    "data$transaction <- gsub(\"\\\\[|\\\\]\", '', data$transaction) #to remove square brackets\n",
    "data$transaction <- gsub(\"'\", '', data$transaction) #to remove the parentheses\n",
    "head(data)"
   ]
  },
  {
   "cell_type": "code",
   "execution_count": 15,
   "metadata": {},
   "outputs": [
    {
     "data": {
      "text/html": [
       "<table>\n",
       "<thead><tr><th scope=col>First Name</th><th scope=col>Last Name</th><th scope=col>tx_id</th><th scope=col>tx_date</th><th scope=col>tx_amount</th><th scope=col>tx_mode</th><th scope=col>tx_channel</th><th scope=col>bank_name</th><th scope=col>dob</th></tr></thead>\n",
       "<tbody>\n",
       "\t<tr><td>nooeukw                              </td><td>uuoaklowalb                          </td><td>tx_id: 5ed3d67b8723c11444c43283      </td><td> tx_date: 2020-06-13T05:28:47.543000Z</td><td> tx_amount: 6192                     </td><td> tx_mode: Debit                      </td><td> tx_channel: web                     </td><td> bank_name: QBank                    </td><td> dob: 1992-11-10 00:00:00            </td></tr>\n",
       "\t<tr><td>angulbo                              </td><td>seagn                                </td><td>tx_id: 5ed3d67b8723c11444c43283      </td><td> tx_date: 2020-06-12T20:22:38.986000Z</td><td> tx_amount: 38445                    </td><td> tx_mode: Debit                      </td><td> tx_channel: mobile                  </td><td> bank_name: ABank                    </td><td> dob: n/a                            </td></tr>\n",
       "\t<tr><td>dukowi                               </td><td>eukloomja                            </td><td>tx_id: 5ed3d67b8723c11444c43283      </td><td> tx_date: 2020-06-13T06:00:46.904000Z</td><td> tx_amount: 29627                    </td><td> tx_mode: Debit                      </td><td> tx_channel: mobile                  </td><td> bank_name: GBank                    </td><td> dob: 1992-01-01 00:00:00            </td></tr>\n",
       "\t<tr><td>ltuoawiob                            </td><td>uuilawobmn                           </td><td>tx_id: 5ed3d67b8723c11444c43283      </td><td> tx_date: 2020-06-13T16:10:51.479000Z</td><td> tx_amount: 27791                    </td><td> tx_mode: Debit                      </td><td> tx_channel: web                     </td><td> bank_name: KBank                    </td><td> dob: 1981-01-07 00:00:00            </td></tr>\n",
       "\t<tr><td>nakuolo                              </td><td>donald                               </td><td>tx_id: 5ed3d67b8723c11444c43283      </td><td> tx_date: 2020-06-13T05:28:47.543000Z</td><td> tx_amount: 6192                     </td><td> tx_mode: Debit                      </td><td> tx_channel: web                     </td><td> bank_name: QBank                    </td><td> dob: n/a                            </td></tr>\n",
       "\t<tr><td>juagn                                </td><td>ahcnaiz                              </td><td>tx_id: 5ed3d67b8723c11444c43283      </td><td> tx_date: 2020-06-12T20:22:38.986000Z</td><td> tx_amount: 38445                    </td><td> tx_mode: Debit                      </td><td> tx_channel: mobile                  </td><td> bank_name: ABank                    </td><td> dob: 1980-11-22 00:00:00            </td></tr>\n",
       "</tbody>\n",
       "</table>\n"
      ],
      "text/latex": [
       "\\begin{tabular}{r|lllllllll}\n",
       " First Name & Last Name & tx\\_id & tx\\_date & tx\\_amount & tx\\_mode & tx\\_channel & bank\\_name & dob\\\\\n",
       "\\hline\n",
       "\t nooeukw                                 & uuoaklowalb                             & tx\\_id: 5ed3d67b8723c11444c43283       &  tx\\_date: 2020-06-13T05:28:47.543000Z &  tx\\_amount: 6192                      &  tx\\_mode: Debit                       &  tx\\_channel: web                      &  bank\\_name: QBank                     &  dob: 1992-11-10 00:00:00              \\\\\n",
       "\t angulbo                                 & seagn                                   & tx\\_id: 5ed3d67b8723c11444c43283       &  tx\\_date: 2020-06-12T20:22:38.986000Z &  tx\\_amount: 38445                     &  tx\\_mode: Debit                       &  tx\\_channel: mobile                   &  bank\\_name: ABank                     &  dob: n/a                              \\\\\n",
       "\t dukowi                                  & eukloomja                               & tx\\_id: 5ed3d67b8723c11444c43283       &  tx\\_date: 2020-06-13T06:00:46.904000Z &  tx\\_amount: 29627                     &  tx\\_mode: Debit                       &  tx\\_channel: mobile                   &  bank\\_name: GBank                     &  dob: 1992-01-01 00:00:00              \\\\\n",
       "\t ltuoawiob                               & uuilawobmn                              & tx\\_id: 5ed3d67b8723c11444c43283       &  tx\\_date: 2020-06-13T16:10:51.479000Z &  tx\\_amount: 27791                     &  tx\\_mode: Debit                       &  tx\\_channel: web                      &  bank\\_name: KBank                     &  dob: 1981-01-07 00:00:00              \\\\\n",
       "\t nakuolo                                 & donald                                  & tx\\_id: 5ed3d67b8723c11444c43283       &  tx\\_date: 2020-06-13T05:28:47.543000Z &  tx\\_amount: 6192                      &  tx\\_mode: Debit                       &  tx\\_channel: web                      &  bank\\_name: QBank                     &  dob: n/a                              \\\\\n",
       "\t juagn                                   & ahcnaiz                                 & tx\\_id: 5ed3d67b8723c11444c43283       &  tx\\_date: 2020-06-12T20:22:38.986000Z &  tx\\_amount: 38445                     &  tx\\_mode: Debit                       &  tx\\_channel: mobile                   &  bank\\_name: ABank                     &  dob: 1980-11-22 00:00:00              \\\\\n",
       "\\end{tabular}\n"
      ],
      "text/markdown": [
       "\n",
       "| First Name | Last Name | tx_id | tx_date | tx_amount | tx_mode | tx_channel | bank_name | dob |\n",
       "|---|---|---|---|---|---|---|---|---|\n",
       "| nooeukw                               | uuoaklowalb                           | tx_id: 5ed3d67b8723c11444c43283       |  tx_date: 2020-06-13T05:28:47.543000Z |  tx_amount: 6192                      |  tx_mode: Debit                       |  tx_channel: web                      |  bank_name: QBank                     |  dob: 1992-11-10 00:00:00             |\n",
       "| angulbo                               | seagn                                 | tx_id: 5ed3d67b8723c11444c43283       |  tx_date: 2020-06-12T20:22:38.986000Z |  tx_amount: 38445                     |  tx_mode: Debit                       |  tx_channel: mobile                   |  bank_name: ABank                     |  dob: n/a                             |\n",
       "| dukowi                                | eukloomja                             | tx_id: 5ed3d67b8723c11444c43283       |  tx_date: 2020-06-13T06:00:46.904000Z |  tx_amount: 29627                     |  tx_mode: Debit                       |  tx_channel: mobile                   |  bank_name: GBank                     |  dob: 1992-01-01 00:00:00             |\n",
       "| ltuoawiob                             | uuilawobmn                            | tx_id: 5ed3d67b8723c11444c43283       |  tx_date: 2020-06-13T16:10:51.479000Z |  tx_amount: 27791                     |  tx_mode: Debit                       |  tx_channel: web                      |  bank_name: KBank                     |  dob: 1981-01-07 00:00:00             |\n",
       "| nakuolo                               | donald                                | tx_id: 5ed3d67b8723c11444c43283       |  tx_date: 2020-06-13T05:28:47.543000Z |  tx_amount: 6192                      |  tx_mode: Debit                       |  tx_channel: web                      |  bank_name: QBank                     |  dob: n/a                             |\n",
       "| juagn                                 | ahcnaiz                               | tx_id: 5ed3d67b8723c11444c43283       |  tx_date: 2020-06-12T20:22:38.986000Z |  tx_amount: 38445                     |  tx_mode: Debit                       |  tx_channel: mobile                   |  bank_name: ABank                     |  dob: 1980-11-22 00:00:00             |\n",
       "\n"
      ],
      "text/plain": [
       "  First Name Last Name   tx_id                          \n",
       "1 nooeukw    uuoaklowalb tx_id: 5ed3d67b8723c11444c43283\n",
       "2 angulbo    seagn       tx_id: 5ed3d67b8723c11444c43283\n",
       "3 dukowi     eukloomja   tx_id: 5ed3d67b8723c11444c43283\n",
       "4 ltuoawiob  uuilawobmn  tx_id: 5ed3d67b8723c11444c43283\n",
       "5 nakuolo    donald      tx_id: 5ed3d67b8723c11444c43283\n",
       "6 juagn      ahcnaiz     tx_id: 5ed3d67b8723c11444c43283\n",
       "  tx_date                               tx_amount         tx_mode        \n",
       "1  tx_date: 2020-06-13T05:28:47.543000Z  tx_amount: 6192   tx_mode: Debit\n",
       "2  tx_date: 2020-06-12T20:22:38.986000Z  tx_amount: 38445  tx_mode: Debit\n",
       "3  tx_date: 2020-06-13T06:00:46.904000Z  tx_amount: 29627  tx_mode: Debit\n",
       "4  tx_date: 2020-06-13T16:10:51.479000Z  tx_amount: 27791  tx_mode: Debit\n",
       "5  tx_date: 2020-06-13T05:28:47.543000Z  tx_amount: 6192   tx_mode: Debit\n",
       "6  tx_date: 2020-06-12T20:22:38.986000Z  tx_amount: 38445  tx_mode: Debit\n",
       "  tx_channel          bank_name         dob                      \n",
       "1  tx_channel: web     bank_name: QBank  dob: 1992-11-10 00:00:00\n",
       "2  tx_channel: mobile  bank_name: ABank  dob: n/a                \n",
       "3  tx_channel: mobile  bank_name: GBank  dob: 1992-01-01 00:00:00\n",
       "4  tx_channel: web     bank_name: KBank  dob: 1981-01-07 00:00:00\n",
       "5  tx_channel: web     bank_name: QBank  dob: n/a                \n",
       "6  tx_channel: mobile  bank_name: ABank  dob: 1980-11-22 00:00:00"
      ]
     },
     "metadata": {},
     "output_type": "display_data"
    }
   ],
   "source": [
    "#to separate transaction column into multiple columns\n",
    "data <- data %>% separate(transaction, c(\"tx_id\", \"tx_date\", \"tx_amount\", \"tx_mode\", \"tx_channel\", \"bank_name\", \"dob\"), \n",
    "                          sep = \"([,])\")\n",
    "head(data)"
   ]
  },
  {
   "cell_type": "code",
   "execution_count": 16,
   "metadata": {},
   "outputs": [
    {
     "data": {
      "text/html": [
       "<table>\n",
       "<thead><tr><th scope=col>First Name</th><th scope=col>Last Name</th><th scope=col>ID</th><th scope=col>Date</th><th scope=col>Amount</th><th scope=col>ModeOfPayment</th><th scope=col>Channel</th><th scope=col>BankName</th><th scope=col>YearOfBirth</th></tr></thead>\n",
       "<tbody>\n",
       "\t<tr><td>nooeukw                  </td><td>uuoaklowalb              </td><td> 5ed3d67b8723c11444c43283</td><td> 2020-06-13T05           </td><td> 6192                    </td><td> Debit                   </td><td> web                     </td><td> QBank                   </td><td> 1992                    </td></tr>\n",
       "\t<tr><td>angulbo                  </td><td>seagn                    </td><td> 5ed3d67b8723c11444c43283</td><td> 2020-06-12T20           </td><td> 38445                   </td><td> Debit                   </td><td> mobile                  </td><td> ABank                   </td><td> n/a                     </td></tr>\n",
       "\t<tr><td>dukowi                   </td><td>eukloomja                </td><td> 5ed3d67b8723c11444c43283</td><td> 2020-06-13T06           </td><td> 29627                   </td><td> Debit                   </td><td> mobile                  </td><td> GBank                   </td><td> 1992                    </td></tr>\n",
       "\t<tr><td>ltuoawiob                </td><td>uuilawobmn               </td><td> 5ed3d67b8723c11444c43283</td><td> 2020-06-13T16           </td><td> 27791                   </td><td> Debit                   </td><td> web                     </td><td> KBank                   </td><td> 1981                    </td></tr>\n",
       "\t<tr><td>nakuolo                  </td><td>donald                   </td><td> 5ed3d67b8723c11444c43283</td><td> 2020-06-13T05           </td><td> 6192                    </td><td> Debit                   </td><td> web                     </td><td> QBank                   </td><td> n/a                     </td></tr>\n",
       "\t<tr><td>juagn                    </td><td>ahcnaiz                  </td><td> 5ed3d67b8723c11444c43283</td><td> 2020-06-12T20           </td><td> 38445                   </td><td> Debit                   </td><td> mobile                  </td><td> ABank                   </td><td> 1980                    </td></tr>\n",
       "</tbody>\n",
       "</table>\n"
      ],
      "text/latex": [
       "\\begin{tabular}{r|lllllllll}\n",
       " First Name & Last Name & ID & Date & Amount & ModeOfPayment & Channel & BankName & YearOfBirth\\\\\n",
       "\\hline\n",
       "\t nooeukw                   & uuoaklowalb               &  5ed3d67b8723c11444c43283 &  2020-06-13T05            &  6192                     &  Debit                    &  web                      &  QBank                    &  1992                    \\\\\n",
       "\t angulbo                   & seagn                     &  5ed3d67b8723c11444c43283 &  2020-06-12T20            &  38445                    &  Debit                    &  mobile                   &  ABank                    &  n/a                     \\\\\n",
       "\t dukowi                    & eukloomja                 &  5ed3d67b8723c11444c43283 &  2020-06-13T06            &  29627                    &  Debit                    &  mobile                   &  GBank                    &  1992                    \\\\\n",
       "\t ltuoawiob                 & uuilawobmn                &  5ed3d67b8723c11444c43283 &  2020-06-13T16            &  27791                    &  Debit                    &  web                      &  KBank                    &  1981                    \\\\\n",
       "\t nakuolo                   & donald                    &  5ed3d67b8723c11444c43283 &  2020-06-13T05            &  6192                     &  Debit                    &  web                      &  QBank                    &  n/a                     \\\\\n",
       "\t juagn                     & ahcnaiz                   &  5ed3d67b8723c11444c43283 &  2020-06-12T20            &  38445                    &  Debit                    &  mobile                   &  ABank                    &  1980                    \\\\\n",
       "\\end{tabular}\n"
      ],
      "text/markdown": [
       "\n",
       "| First Name | Last Name | ID | Date | Amount | ModeOfPayment | Channel | BankName | YearOfBirth |\n",
       "|---|---|---|---|---|---|---|---|---|\n",
       "| nooeukw                   | uuoaklowalb               |  5ed3d67b8723c11444c43283 |  2020-06-13T05            |  6192                     |  Debit                    |  web                      |  QBank                    |  1992                     |\n",
       "| angulbo                   | seagn                     |  5ed3d67b8723c11444c43283 |  2020-06-12T20            |  38445                    |  Debit                    |  mobile                   |  ABank                    |  n/a                      |\n",
       "| dukowi                    | eukloomja                 |  5ed3d67b8723c11444c43283 |  2020-06-13T06            |  29627                    |  Debit                    |  mobile                   |  GBank                    |  1992                     |\n",
       "| ltuoawiob                 | uuilawobmn                |  5ed3d67b8723c11444c43283 |  2020-06-13T16            |  27791                    |  Debit                    |  web                      |  KBank                    |  1981                     |\n",
       "| nakuolo                   | donald                    |  5ed3d67b8723c11444c43283 |  2020-06-13T05            |  6192                     |  Debit                    |  web                      |  QBank                    |  n/a                      |\n",
       "| juagn                     | ahcnaiz                   |  5ed3d67b8723c11444c43283 |  2020-06-12T20            |  38445                    |  Debit                    |  mobile                   |  ABank                    |  1980                     |\n",
       "\n"
      ],
      "text/plain": [
       "  First Name Last Name   ID                        Date           Amount\n",
       "1 nooeukw    uuoaklowalb  5ed3d67b8723c11444c43283  2020-06-13T05  6192 \n",
       "2 angulbo    seagn        5ed3d67b8723c11444c43283  2020-06-12T20  38445\n",
       "3 dukowi     eukloomja    5ed3d67b8723c11444c43283  2020-06-13T06  29627\n",
       "4 ltuoawiob  uuilawobmn   5ed3d67b8723c11444c43283  2020-06-13T16  27791\n",
       "5 nakuolo    donald       5ed3d67b8723c11444c43283  2020-06-13T05  6192 \n",
       "6 juagn      ahcnaiz      5ed3d67b8723c11444c43283  2020-06-12T20  38445\n",
       "  ModeOfPayment Channel BankName YearOfBirth\n",
       "1  Debit         web     QBank    1992      \n",
       "2  Debit         mobile  ABank    n/a       \n",
       "3  Debit         mobile  GBank    1992      \n",
       "4  Debit         web     KBank    1981      \n",
       "5  Debit         web     QBank    n/a       \n",
       "6  Debit         mobile  ABank    1980      "
      ]
     },
     "metadata": {},
     "output_type": "display_data"
    }
   ],
   "source": [
    "#to separate and extract the data needed for analysis. NA was imputed to ignore the first variable\n",
    "data <- data %>% separate(tx_id, c(NA, \"ID\"), sep = \"([:])\", extra = \"drop\")\n",
    "data <- data %>% separate(tx_date, c(NA, \"Date\"), sep = \"([:])\", extra = \"drop\")\n",
    "data <- data %>% separate(tx_amount, c(NA, \"Amount\"), sep = \"([:])\", extra = \"drop\")\n",
    "data <- data %>% separate(tx_mode, c(NA, \"ModeOfPayment\"), sep = \"([:])\", extra = \"drop\")\n",
    "data <- data %>% separate(tx_channel, c(NA, \"Channel\"), sep = \"([:])\", extra = \"drop\")\n",
    "data <- data %>% separate(bank_name, c(NA, \"BankName\"), sep = \"([:])\", extra = \"drop\")\n",
    "data <- data %>% separate(dob, c(NA, \"YearOfBirth\"), sep = \"([:-])\", extra = \"drop\")\n",
    "head(data)"
   ]
  },
  {
   "cell_type": "code",
   "execution_count": 17,
   "metadata": {},
   "outputs": [
    {
     "name": "stderr",
     "output_type": "stream",
     "text": [
      "Warning message in eval(substitute(list(...)), `_data`, parent.frame()):\n",
      "\"NAs introduced by coercion\""
     ]
    }
   ],
   "source": [
    "data <- transform(data, YearOfBirth = as.numeric(YearOfBirth))\n",
    "data$Age <- 2020 - data$YearOfBirth #to extract the age"
   ]
  },
  {
   "cell_type": "markdown",
   "metadata": {},
   "source": [
    "## To identify the top 5 predominant ages in the dataset"
   ]
  },
  {
   "cell_type": "code",
   "execution_count": 18,
   "metadata": {},
   "outputs": [
    {
     "data": {
      "image/png": "[encoded data removed]",
      "text/plain": [
       "plot without title"
      ]
     },
     "metadata": {},
     "output_type": "display_data"
    }
   ],
   "source": [
    "options(repr.plot.width=4, repr.plot.height=3) #to set the size of the chart\n",
    "data <- transform(data, Age = as.factor(Age)) #to change the age to categorical variable\n",
    "agedata <- data %>% count(Age)\n",
    "agedata <- agedata %>% arrange(desc(n)) %>% slice(2:6) #I started from 2 because the highest frequency is the NA value\n",
    "\n",
    "ggplot(agedata, aes(x = Age, y=n)) + geom_bar(fill = \"cornflowerblue\", stat=\"identity\") + labs(x = \"Age(In years)\", \n",
    "                                                    y = \"Frequency\", title = \"Top 5 predominant Ages\") + coord_flip()"
   ]
  },
  {
   "cell_type": "markdown",
   "metadata": {},
   "source": [
    "## To determine the bank with the largest share of transactions."
   ]
  },
  {
   "cell_type": "code",
   "execution_count": 19,
   "metadata": {},
   "outputs": [
    {
     "name": "stderr",
     "output_type": "stream",
     "text": [
      "`summarise()` ungrouping output (override with `.groups` argument)\n"
     ]
    },
    {
     "data": {
      "image/png": "[encoded data removed]",
      "text/plain": [
       "plot without title"
      ]
     },
     "metadata": {},
     "output_type": "display_data"
    }
   ],
   "source": [
    "options(repr.plot.width=5, repr.plot.height=3)\n",
    "data <- transform(data, Amount = as.numeric(Amount))\n",
    "bankdata <- data %>% group_by(BankName) %>% summarise(Amount = sum(Amount))\n",
    "bankdata$PercAmt <- round(bankdata$Amount*100/sum(bankdata$Amount))\n",
    "bankdata$label <- paste0(bankdata$BankName, \"\\n\", round(bankdata$PercAmt), \"%\")\n",
    "\n",
    "ggplot(bankdata, aes(fill = BankName, area = Amount, label = label)) + geom_treemap() + geom_treemap_text(colour = \"white\", \n",
    "    place = \"centre\") + labs(title = \"Banks and the percentage share of their transactions\") + theme(legend.position = \"none\")"
   ]
  },
  {
   "cell_type": "markdown",
   "metadata": {},
   "source": [
    "### ABank has the largest share of transactions"
   ]
  },
  {
   "cell_type": "markdown",
   "metadata": {},
   "source": [
    "## To show distribution of channels used on transactions"
   ]
  },
  {
   "cell_type": "code",
   "execution_count": 20,
   "metadata": {},
   "outputs": [
    {
     "data": {
      "image/png": "[encoded data removed]",
      "text/plain": [
       "Plot with title \"Distribution of channels used\""
      ]
     },
     "metadata": {},
     "output_type": "display_data"
    }
   ],
   "source": [
    "options(repr.plot.width=7, repr.plot.height=4)\n",
    "channeldata <- data %>% count(Channel)\n",
    "channeldata$PercAmt <- round(channeldata$n*100/sum(channeldata$n), 2)\n",
    "channeldata$label <- paste0(channeldata$Channel, \"\\n\", channeldata$PercAmt, \"%\")\n",
    "\n",
    "pie3D(channeldata$PercAmt,labels=channeldata$label, explode=0.1, main=\"Distribution of channels used\")"
   ]
  }
 ],
 "metadata": {
  "kernelspec": {
   "display_name": "R",
   "language": "R",
   "name": "ir"
  },
  "language_info": {
   "codemirror_mode": "r",
   "file_extension": ".r",
   "mimetype": "text/x-r-source",
   "name": "R",
   "pygments_lexer": "r",
   "version": "3.6.1"
  }
 },
 "nbformat": 4,
 "nbformat_minor": 4
}
